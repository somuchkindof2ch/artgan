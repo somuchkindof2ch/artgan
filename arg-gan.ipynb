{
 "cells": [
  {
   "cell_type": "code",
   "execution_count": 1,
   "metadata": {},
   "outputs": [],
   "source": [
    "import pandas as pd\n",
    "import numpy as np\n",
    "import cv2\n",
    "from matplotlib import pyplot as plt\n",
    "import os\n",
    "import torch\n",
    "from os import listdir\n",
    "from os.path import isfile, join\n",
    "from sklearn import preprocessing\n",
    "import torchvision.transforms as transforms\n",
    "import torchvision.models as models\n",
    "from torch import nn\n",
    "import torch.utils.data\n",
    "import statistics "
   ]
  },
  {
   "cell_type": "code",
   "execution_count": 2,
   "metadata": {
    "scrolled": true
   },
   "outputs": [],
   "source": [
    "#Get link to directory\n",
    "path_to_train_info = os.path.join(os.getenv('DATASETS'), 'ArtRecognision\\\\train_info.csv')\n",
    "path_to_train_set = os.path.join(os.getenv('DATASETS'), 'ArtRecognision\\\\train_2\\\\')\n",
    "path_to_transformed_train_set = os.path.join(os.getenv('DATASETS'), 'ArtRecognision\\\\transformed_images\\\\')"
   ]
  },
  {
   "cell_type": "code",
   "execution_count": 3,
   "metadata": {},
   "outputs": [
    {
     "data": {
      "text/html": [
       "<div>\n",
       "<style scoped>\n",
       "    .dataframe tbody tr th:only-of-type {\n",
       "        vertical-align: middle;\n",
       "    }\n",
       "\n",
       "    .dataframe tbody tr th {\n",
       "        vertical-align: top;\n",
       "    }\n",
       "\n",
       "    .dataframe thead th {\n",
       "        text-align: right;\n",
       "    }\n",
       "</style>\n",
       "<table border=\"1\" class=\"dataframe\">\n",
       "  <thead>\n",
       "    <tr style=\"text-align: right;\">\n",
       "      <th></th>\n",
       "      <th>filename</th>\n",
       "      <th>artist</th>\n",
       "      <th>title</th>\n",
       "      <th>style</th>\n",
       "      <th>genre</th>\n",
       "      <th>date</th>\n",
       "    </tr>\n",
       "  </thead>\n",
       "  <tbody>\n",
       "    <tr>\n",
       "      <th>0</th>\n",
       "      <td>102257.jpg</td>\n",
       "      <td>5b39c876740bfc1cfaf544721c43cac3</td>\n",
       "      <td>Uriel</td>\n",
       "      <td>Color Field Painting</td>\n",
       "      <td>abstract</td>\n",
       "      <td>1955.0</td>\n",
       "    </tr>\n",
       "    <tr>\n",
       "      <th>1</th>\n",
       "      <td>75232.jpg</td>\n",
       "      <td>5b39c876740bfc1cfaf544721c43cac3</td>\n",
       "      <td>Vir Heroicus Sublimis</td>\n",
       "      <td>Color Field Painting</td>\n",
       "      <td>abstract</td>\n",
       "      <td>1950.0</td>\n",
       "    </tr>\n",
       "    <tr>\n",
       "      <th>2</th>\n",
       "      <td>29855.jpg</td>\n",
       "      <td>96e5bc98488ed589b9bf17ad9fd09371</td>\n",
       "      <td>Night March of a Hundred Demons (left half)</td>\n",
       "      <td>Yamato-e</td>\n",
       "      <td>mythological painting</td>\n",
       "      <td>NaN</td>\n",
       "    </tr>\n",
       "    <tr>\n",
       "      <th>3</th>\n",
       "      <td>62252.jpg</td>\n",
       "      <td>5b39c876740bfc1cfaf544721c43cac3</td>\n",
       "      <td>Who’s Afraid of Red,  Yellow and Blue II</td>\n",
       "      <td>Color Field Painting</td>\n",
       "      <td>abstract</td>\n",
       "      <td>NaN</td>\n",
       "    </tr>\n",
       "    <tr>\n",
       "      <th>4</th>\n",
       "      <td>63861.jpg</td>\n",
       "      <td>5b39c876740bfc1cfaf544721c43cac3</td>\n",
       "      <td>Black Fire I</td>\n",
       "      <td>Color Field Painting</td>\n",
       "      <td>abstract</td>\n",
       "      <td>1963.0</td>\n",
       "    </tr>\n",
       "    <tr>\n",
       "      <th>...</th>\n",
       "      <td>...</td>\n",
       "      <td>...</td>\n",
       "      <td>...</td>\n",
       "      <td>...</td>\n",
       "      <td>...</td>\n",
       "      <td>...</td>\n",
       "    </tr>\n",
       "    <tr>\n",
       "      <th>79428</th>\n",
       "      <td>23862.jpg</td>\n",
       "      <td>67959e4e5df05b3d9db7c97fd9a0b0f6</td>\n",
       "      <td>Number 547</td>\n",
       "      <td>Abstract Expressionism</td>\n",
       "      <td>NaN</td>\n",
       "      <td>1954.0</td>\n",
       "    </tr>\n",
       "    <tr>\n",
       "      <th>79429</th>\n",
       "      <td>25525.jpg</td>\n",
       "      <td>2d72f2000c42051e7c350a39bdce9bc1</td>\n",
       "      <td>Number 13A (Arabesque)</td>\n",
       "      <td>Action painting</td>\n",
       "      <td>abstract</td>\n",
       "      <td>1948.0</td>\n",
       "    </tr>\n",
       "    <tr>\n",
       "      <th>79430</th>\n",
       "      <td>47038.jpg</td>\n",
       "      <td>f920b951670e3d8dc3c759f12ced7a3e</td>\n",
       "      <td>St. Francis of Assisi</td>\n",
       "      <td>Baroque</td>\n",
       "      <td>religious painting</td>\n",
       "      <td>NaN</td>\n",
       "    </tr>\n",
       "    <tr>\n",
       "      <th>79431</th>\n",
       "      <td>9021.jpg</td>\n",
       "      <td>e4183fd3d19c2bca8b7c56d19af92252</td>\n",
       "      <td>Thebe's Revenge</td>\n",
       "      <td>NaN</td>\n",
       "      <td>marina</td>\n",
       "      <td>1982.0</td>\n",
       "    </tr>\n",
       "    <tr>\n",
       "      <th>79432</th>\n",
       "      <td>36564.jpg</td>\n",
       "      <td>0c491bebb405572a8fca52e950a45c20</td>\n",
       "      <td>House Manhufe</td>\n",
       "      <td>Cubism</td>\n",
       "      <td>landscape</td>\n",
       "      <td>1913</td>\n",
       "    </tr>\n",
       "  </tbody>\n",
       "</table>\n",
       "<p>79433 rows × 6 columns</p>\n",
       "</div>"
      ],
      "text/plain": [
       "         filename                            artist  \\\n",
       "0      102257.jpg  5b39c876740bfc1cfaf544721c43cac3   \n",
       "1       75232.jpg  5b39c876740bfc1cfaf544721c43cac3   \n",
       "2       29855.jpg  96e5bc98488ed589b9bf17ad9fd09371   \n",
       "3       62252.jpg  5b39c876740bfc1cfaf544721c43cac3   \n",
       "4       63861.jpg  5b39c876740bfc1cfaf544721c43cac3   \n",
       "...           ...                               ...   \n",
       "79428   23862.jpg  67959e4e5df05b3d9db7c97fd9a0b0f6   \n",
       "79429   25525.jpg  2d72f2000c42051e7c350a39bdce9bc1   \n",
       "79430   47038.jpg  f920b951670e3d8dc3c759f12ced7a3e   \n",
       "79431    9021.jpg  e4183fd3d19c2bca8b7c56d19af92252   \n",
       "79432   36564.jpg  0c491bebb405572a8fca52e950a45c20   \n",
       "\n",
       "                                             title                   style  \\\n",
       "0                                            Uriel    Color Field Painting   \n",
       "1                            Vir Heroicus Sublimis    Color Field Painting   \n",
       "2      Night March of a Hundred Demons (left half)                Yamato-e   \n",
       "3         Who’s Afraid of Red,  Yellow and Blue II    Color Field Painting   \n",
       "4                                    Black Fire I     Color Field Painting   \n",
       "...                                            ...                     ...   \n",
       "79428                                   Number 547  Abstract Expressionism   \n",
       "79429                       Number 13A (Arabesque)         Action painting   \n",
       "79430                        St. Francis of Assisi                 Baroque   \n",
       "79431                              Thebe's Revenge                     NaN   \n",
       "79432                               House Manhufe                   Cubism   \n",
       "\n",
       "                       genre    date  \n",
       "0                   abstract  1955.0  \n",
       "1                   abstract  1950.0  \n",
       "2      mythological painting     NaN  \n",
       "3                   abstract     NaN  \n",
       "4                   abstract  1963.0  \n",
       "...                      ...     ...  \n",
       "79428                    NaN  1954.0  \n",
       "79429               abstract  1948.0  \n",
       "79430     religious painting     NaN  \n",
       "79431                 marina  1982.0  \n",
       "79432              landscape    1913  \n",
       "\n",
       "[79433 rows x 6 columns]"
      ]
     },
     "execution_count": 3,
     "metadata": {},
     "output_type": "execute_result"
    }
   ],
   "source": [
    "#Load datasets\n",
    "train_set = pd.read_csv(path_to_train_info)\n",
    "train_set"
   ]
  },
  {
   "cell_type": "code",
   "execution_count": 4,
   "metadata": {},
   "outputs": [],
   "source": [
    "#Get list of images\n",
    "onlyfiles = [f for f in listdir(path_to_train_set) if isfile(join(path_to_train_set, f))]"
   ]
  },
  {
   "cell_type": "code",
   "execution_count": 5,
   "metadata": {},
   "outputs": [],
   "source": [
    "#Leave data only for the downloaded images\n",
    "filtered_train_set = train_set[train_set.filename.isin(onlyfiles)]\n",
    "final_train_dataset = filtered_train_set[['filename', 'style', 'genre']].dropna()"
   ]
  },
  {
   "cell_type": "code",
   "execution_count": 6,
   "metadata": {},
   "outputs": [],
   "source": [
    "def lowest_size(name_list, directory_path):\n",
    "   # name_list = img_column.tolist()\n",
    "    first_img = cv2.imread(os.path.join(directory_path, str(name_list[0])))\n",
    "    min_value = min(first_img.shape[:-1])\n",
    "    for name in name_list[1:]:\n",
    "        img=cv2.imread(os.path.join(directory_path, name))\n",
    "        if min(img.shape[:-1]) < min_value:\n",
    "            min_value = min(img.shape[:-1])\n",
    "\n",
    "    return min_value"
   ]
  },
  {
   "cell_type": "code",
   "execution_count": 7,
   "metadata": {},
   "outputs": [],
   "source": [
    "#get dict where keys are image filenames, values - image minimum size and minimum size to maximum size ratio\n",
    "def get_min_and_ratio_dict(img_column, directory_path):\n",
    "    name_list = img_column.tolist()\n",
    "    min_dict = {}\n",
    "    for name in name_list:\n",
    "        img=cv2.imread(os.path.join(directory_path, name)) \n",
    "        min_dict[name] = min(img.shape[:-1]), min(img.shape[:-1])/max(img.shape[:-1])\n",
    "    return min_dict"
   ]
  },
  {
   "cell_type": "code",
   "execution_count": 8,
   "metadata": {},
   "outputs": [],
   "source": [
    "#fuction to crop images with square\n",
    "def crop_image(image, crop_size):\n",
    "    height, width, _ = image.shape\n",
    "    cropped_img = image[(height-crop_size)//2 : (height+crop_size)//2, (width-crop_size)//2 : (width+crop_size)//2].copy()\n",
    "    return cropped_img"
   ]
  },
  {
   "cell_type": "code",
   "execution_count": 9,
   "metadata": {},
   "outputs": [],
   "source": [
    "def transform_image(file_list, path_to_train_set, path_to_transformed_train_set, crop_size, img_size):\n",
    "    for name in final_train_dataset['filename']:\n",
    "        try:\n",
    "            img=cv2.imread(os.path.join(path_to_train_set, name))\n",
    "            c_image = crop_image(img, crop_size)\n",
    "            r_image=cv2.resize(c_image,(img_size,img_size),interpolation=cv2.INTER_AREA)\n",
    "            t_image = torch.Tensor(r_image)\n",
    "            new_name = name.split(\".\", 1)[0] + \".pt\"\n",
    "            torch.save(t_image, path_to_transformed_train_set + new_name)\n",
    "\n",
    "        except:\n",
    "            continue "
   ]
  },
  {
   "cell_type": "code",
   "execution_count": 10,
   "metadata": {},
   "outputs": [],
   "source": [
    "image_min_and_ratio_dict = get_min_and_ratio_dict(final_train_dataset['filename'], path_to_train_set)"
   ]
  },
  {
   "cell_type": "code",
   "execution_count": 11,
   "metadata": {},
   "outputs": [
    {
     "data": {
      "image/png": "[encoded data removed]",
      "text/plain": [
       "<Figure size 432x288 with 1 Axes>"
      ]
     },
     "metadata": {
      "needs_background": "light"
     },
     "output_type": "display_data"
    }
   ],
   "source": [
    "#ratio histogram\n",
    "plt.hist([d[1] for d in image_min_and_ratio_dict.values()], bins=750)\n",
    "plt.show()"
   ]
  },
  {
   "cell_type": "code",
   "execution_count": 12,
   "metadata": {},
   "outputs": [
    {
     "data": {
      "image/png": "[encoded data removed]",
      "text/plain": [
       "<Figure size 432x288 with 1 Axes>"
      ]
     },
     "metadata": {
      "needs_background": "light"
     },
     "output_type": "display_data"
    }
   ],
   "source": [
    "#min size histogram\n",
    "plt.hist([d[0] for d in image_min_and_ratio_dict.values()], bins=750)\n",
    "plt.show()"
   ]
  },
  {
   "cell_type": "code",
   "execution_count": 13,
   "metadata": {},
   "outputs": [],
   "source": [
    "#calculate mean and std of the ratio of images\n",
    "image_ratio_standart_deviation = statistics.pstdev([d[1] for d in image_min_and_ratio_dict.values()]) \n",
    "image_ratio_mean = statistics.mean([d[1] for d in image_min_and_ratio_dict.values()])"
   ]
  },
  {
   "cell_type": "code",
   "execution_count": 14,
   "metadata": {},
   "outputs": [
    {
     "data": {
      "text/plain": [
       "0.11438913251732333"
      ]
     },
     "execution_count": 14,
     "metadata": {},
     "output_type": "execute_result"
    }
   ],
   "source": [
    "image_ratio_standart_deviation"
   ]
  },
  {
   "cell_type": "code",
   "execution_count": 15,
   "metadata": {},
   "outputs": [
    {
     "data": {
      "text/plain": [
       "0.7435620707364642"
      ]
     },
     "execution_count": 15,
     "metadata": {},
     "output_type": "execute_result"
    }
   ],
   "source": [
    "image_ratio_mean"
   ]
  },
  {
   "cell_type": "code",
   "execution_count": 16,
   "metadata": {},
   "outputs": [],
   "source": [
    "#calculate mean and std of the minimum sizes of images\n",
    "min_size_standart_deviation = statistics.pstdev([d[0] for d in image_min_and_ratio_dict.values()]) \n",
    "min_size_mean = statistics.mean([d[0] for d in image_min_and_ratio_dict.values()]) "
   ]
  },
  {
   "cell_type": "code",
   "execution_count": 17,
   "metadata": {},
   "outputs": [
    {
     "data": {
      "text/plain": [
       "559.2099676383365"
      ]
     },
     "execution_count": 17,
     "metadata": {},
     "output_type": "execute_result"
    }
   ],
   "source": [
    "min_size_standart_deviation"
   ]
  },
  {
   "cell_type": "code",
   "execution_count": 18,
   "metadata": {},
   "outputs": [
    {
     "data": {
      "text/plain": [
       "855.2864176774349"
      ]
     },
     "execution_count": 18,
     "metadata": {},
     "output_type": "execute_result"
    }
   ],
   "source": [
    "min_size_mean"
   ]
  },
  {
   "cell_type": "code",
   "execution_count": 19,
   "metadata": {},
   "outputs": [
    {
     "data": {
      "text/plain": [
       "7797"
      ]
     },
     "execution_count": 19,
     "metadata": {},
     "output_type": "execute_result"
    }
   ],
   "source": [
    "#leave only those whose image ratio lay to the right of the lower border\n",
    "filtered_dict = {key:val for key, val in image_min_and_ratio_dict.items() if val[1] >= (image_ratio_mean - 1.5*image_ratio_standart_deviation)}\n",
    "len(filtered_dict)"
   ]
  },
  {
   "cell_type": "code",
   "execution_count": 20,
   "metadata": {},
   "outputs": [
    {
     "data": {
      "text/plain": [
       "6821"
      ]
     },
     "execution_count": 20,
     "metadata": {},
     "output_type": "execute_result"
    }
   ],
   "source": [
    "#leave only those whose minimum size lay in the borders of 2 standart deviations (~95%)\n",
    "cleaned_dict = {key:val for key, val in filtered_dict.items() if val[0] >= (min_size_mean - min_size_standart_deviation) and val[0] <= (min_size_mean + min_size_standart_deviation)}\n",
    "len(cleaned_dict)"
   ]
  },
  {
   "cell_type": "code",
   "execution_count": 21,
   "metadata": {},
   "outputs": [],
   "source": [
    "#sort our cleaned dictionary by values\n",
    "sorted_dict = {k: v for k, v in sorted(cleaned_dict.items(), key=lambda item: item[1])}"
   ]
  },
  {
   "cell_type": "code",
   "execution_count": null,
   "metadata": {},
   "outputs": [],
   "source": [
    "#because we have sorted dictionary, we know the minimum size of each image, \n",
    "#so at each iteration we take keys of the 50 elements (in other words - filenames), \n",
    "#load these images, crop them by minimum element of subset (in our case subset size is 50), then resize to 224, turn to tensor and save  \n",
    "for i in range(0, len(sorted_dict), 50): \n",
    "    dict_slice = list(sorted_dict.keys())[i:i+50]\n",
    "    crop_size = lowest_size(dict_slice, path_to_train_set)\n",
    "    transform_image(dict_slice, path_to_train_set, path_to_transformed_train_set, crop_size, 224)    "
   ]
  },
  {
   "cell_type": "code",
   "execution_count": 47,
   "metadata": {},
   "outputs": [],
   "source": [
    "discriminator = models.resnet18(pretrained=True)"
   ]
  },
  {
   "cell_type": "code",
   "execution_count": null,
   "metadata": {},
   "outputs": [],
   "source": [
    "discriminator.fc = nn.Sequential(nn.Linear(1000, 512),\n",
    "                                 nn.Tanh(),\n",
    "                                 nn.Dropout(0.2),\n",
    "                                 nn.Linear(512, 1))"
   ]
  },
  {
   "cell_type": "code",
   "execution_count": null,
   "metadata": {},
   "outputs": [],
   "source": [
    "class Generator(nn.Module):\n",
    "    def __init__(self):\n",
    "        super(Generator, self).__init__()\n",
    "        \n",
    "        n_features = 100\n",
    "\n",
    "        def block(in_channels, out_channels, kernel_size, stride, padding):\n",
    "            layers = [nn.ConvTranspose2d(in_channels, out_channels, kernel_size, stride, padding)]\n",
    "            layers.append(nn.BatchNorm2d(out_channels))\n",
    "            layers.append(nn.LeakyReLU(0.2, inplace=True))\n",
    "            layers.append([nn.ConvTranspose2d(in_channels, out_channels, 1, 1, 1)])\n",
    "            layers.append(nn.BatchNorm2d(out_channels))\n",
    "            layers.append(nn.LeakyReLU(0.2, inplace=True))\n",
    "            layers.append([nn.ConvTranspose2d(in_channels, out_channels, 1, 1, 1)])\n",
    "            layers.append(nn.BatchNorm2d(out_channels))\n",
    "            layers.append(nn.LeakyReLU(0.2, inplace=True))\n",
    "            layers.append([nn.ConvTranspose2d(in_channels, out_channels, 1, 1, 1)])\n",
    "            layers.append(nn.BatchNorm2d(out_channels))\n",
    "            layers.append(nn.LeakyReLU(0.2, inplace=True))\n",
    "            return layers     \n",
    "                \n",
    "        self.linear1= nn.Linear(n_features, 256)\n",
    "        self.linear2= nn.Linear(256, 6272)\n",
    "        \n",
    "        self.deconv1 = nn.Sequential(*block(128, 128, 4, 2, 1))      \n",
    "        self.deconv2 = nn.Sequential(*block(128, 128, 4, 2, 1))        \n",
    "        self.deconv3 = nn.Sequential(*block(256, 128, 4, 2, 1))\n",
    "        self.deconv4 = nn.Sequential(*block(384, 128, 4, 2, 1))\n",
    "        self.deconv5 = nn.Sequential(*block(512, 128, 4, 2, 1))\n",
    "        self.deconv6 = nn.Sequential(*block(128, 64, 1, 1, 1))\n",
    "        self.deconv7 = nn.Sequential(*block(64, 32, 1, 1, 1))\n",
    "        self.deconv8 = nn.ConvTranspose2d(32, 3, 1, 1, 1)\n",
    "        \n",
    "        \n",
    "        def forward(self, x):\n",
    "            \n",
    "            linear1 = F.LeakyReLU(self.linear1(x))\n",
    "            linear2 = F.LeakyReLU(self.linear2(linear1))\n",
    "            hidden1 = linear2.view(-1, 128*7*7)\n",
    "            deconv1 = self.deconv1(hidden1)\n",
    "            deconv2 = self.deconv2(deconv1)\n",
    "            c2_dense = F.LeakyReLU(torch.cat([deconv1, deconv2], 1))\n",
    "            deconv3 = self.deconv3(c2_dense)\n",
    "            c3_dense = F.LeakyReLU(torch.cat([deconv1, deconv2, deconv3], 1))                  \n",
    "            deconv4 = self.deconv4(c3_dense)         \n",
    "            c4_dense = F.LeakyReLU(torch.cat([deconv1, deconv2, deconv3, deconv4], 1))   \n",
    "            deconv5 = self.deconv5(c4_dense)\n",
    "            c5_dense = F.LeakyReLU(torch.cat([deconv1, deconv2, deconv3, deconv4, deconv5], 1))\n",
    "            deconv6 = self.deconv6(c5_dense)\n",
    "            deconv7 = self.deconv7(deconv6)\n",
    "            deconv8 = F.tanh(self.deconv8(deconv7))\n",
    "            \n",
    "            return deconv8"
   ]
  },
  {
   "cell_type": "code",
   "execution_count": null,
   "metadata": {},
   "outputs": [],
   "source": [
    "device = torch.device(\"cuda:0\" if use_gpu and torch.cuda.is_available() else \"cpu\")\n",
    "generator = Generator().to(device)\n",
    "discriminator = discriminator.to(device)"
   ]
  },
  {
   "cell_type": "code",
   "execution_count": null,
   "metadata": {},
   "outputs": [],
   "source": [
    "d_optimizer = torch.optim.Adam(discriminator.parameters(), lr=0.002, amsgrad=False)\n",
    "g_optimizer = torch.optim.Adam(generator.parameters(), lr=0.002, amsgrad=False)"
   ]
  },
  {
   "cell_type": "code",
   "execution_count": null,
   "metadata": {},
   "outputs": [],
   "source": [
    "train_images = torch.load(path_to_transformed_train_set)\n",
    "train_dataset = torch.utils.data.TensorDataset(train_images)\n",
    "train_dataloader = torch.utils.data.DataLoader(train_tensor, batch_size=250, shuffle=True)"
   ]
  },
  {
   "cell_type": "code",
   "execution_count": null,
   "metadata": {},
   "outputs": [],
   "source": [
    "num_epochs = 500\n",
    "generator.train()\n",
    "discriminator.train()\n",
    "\n",
    "for epoch in range(num_epochs):\n",
    "    gen_loss_avg.append(0)\n",
    "    disc_loss_avg.append(0)\n",
    "    num_batches = 0\n",
    "    \n",
    "    for image_batch, _ in train_dataloader:\n",
    "        \n",
    "        # get dataset image and create real and fake labels for use in the loss\n",
    "        image_batch = image_batch.to(device)\n",
    "        label_real = torch.ones(image_batch.size(0), device=device)\n",
    "        label_fake = torch.zeros(image_batch.size(0), device=device)\n",
    "\n",
    "        # generate a batch of images from samples of the latent prior\n",
    "        latent = torch.randn(image_batch.size(0), 100, 1, 1, device=device)\n",
    "        fake_image_batch = generator(latent)\n",
    "        \n",
    "        # train discriminator to correctly classify real and fake\n",
    "        # (detach the computation graph of the generator and the discriminator,\n",
    "        # so that gradients are not backpropagated into the generator)\n",
    "        real_pred = discriminator(image_batch).squeeze()\n",
    "        fake_pred = discriminator(fake_image_batch.detach()).squeeze()\n",
    "        disc_loss = 0.5 * (\n",
    "            F.binary_cross_entropy_with_logits(real_pred, label_real) +\n",
    "            F.binary_cross_entropy_with_logits(fake_pred, label_fake))\n",
    "        \n",
    "        disc_optimizer.zero_grad()\n",
    "        disc_loss.backward()\n",
    "        disc_optimizer.step()\n",
    "        \n",
    "        # train generator to output an image that is classified as real\n",
    "        fake_pred = discriminator(fake_image_batch).squeeze()\n",
    "        gen_loss = F.binary_cross_entropy(fake_pred, label_real)\n",
    "        \n",
    "        gen_optimizer.zero_grad()\n",
    "        gen_loss.backward()\n",
    "        gen_optimizer.step()\n",
    "        \n",
    "        gen_loss_avg[-1] += gen_loss.item()\n",
    "        disc_loss_avg[-1] += disc_loss.item()\n",
    "        num_batches += 1\n",
    "        \n",
    "    gen_loss_avg[-1] /= num_batches\n",
    "    disc_loss_avg[-1] /= num_batches\n",
    "    print('Epoch [%d / %d] average loss generator vs. discrim.: %f vs. %f' %\n",
    "          (epoch+1, num_epochs, gen_loss_avg[-1], disc_loss_avg[-1]))"
   ]
  }
 ],
 "metadata": {
  "kernelspec": {
   "display_name": "Python 3",
   "language": "python",
   "name": "python3"
  },
  "language_info": {
   "codemirror_mode": {
    "name": "ipython",
    "version": 3
   },
   "file_extension": ".py",
   "mimetype": "text/x-python",
   "name": "python",
   "nbconvert_exporter": "python",
   "pygments_lexer": "ipython3",
   "version": "3.7.7"
  }
 },
 "nbformat": 4,
 "nbformat_minor": 2
}
